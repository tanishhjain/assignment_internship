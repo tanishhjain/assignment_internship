{
 "cells": [
  {
   "cell_type": "code",
   "execution_count": 1,
   "metadata": {
    "id": "f83LpkRb40-v"
   },
   "outputs": [],
   "source": [
    "from transformers import AutoTokenizer, AutoModelForSeq2SeqLM, pipeline\n",
    "from langdetect import detect"
   ]
  },
  {
   "cell_type": "markdown",
   "metadata": {
    "id": "Y-fWJLAe-YE1"
   },
   "source": [
    "# Model Setup"
   ]
  },
  {
   "cell_type": "code",
   "execution_count": 2,
   "metadata": {
    "id": "OyBeiGwE5q-s"
   },
   "outputs": [],
   "source": [
    "model = AutoModelForSeq2SeqLM.from_pretrained('facebook/nllb-200-distilled-600M')\n",
    "tokenizer = AutoTokenizer.from_pretrained('facebook/nllb-200-distilled-600M')"
   ]
  },
  {
   "cell_type": "code",
   "execution_count": null,
   "id": "46381f06",
   "metadata": {},
   "outputs": [
    {
     "data": {
      "application/vnd.jupyter.widget-view+json": {
       "model_id": "9979cf0cc84b4be99081d79283eea598",
       "version_major": 2,
       "version_minor": 0
      },
      "text/plain": [
       "Text(value='My name is Tanish and i am from chhatisgarh.', description='Input:', layout=Layout(width='100%'))"
      ]
     },
     "metadata": {},
     "output_type": "display_data"
    },
    {
     "data": {
      "application/vnd.jupyter.widget-view+json": {
       "model_id": "bba3249eb8fa4d658394f2d1b520fdbc",
       "version_major": 2,
       "version_minor": 0
      },
      "text/plain": [
       "Dropdown(description='Language:', options=(('Hindi', 'hin_Deva'), ('Maithili', 'mai_Deva')), value='hin_Deva')"
      ]
     },
     "metadata": {},
     "output_type": "display_data"
    },
    {
     "data": {
      "application/vnd.jupyter.widget-view+json": {
       "model_id": "ba7654ea0a0249799b6cf49053f67d28",
       "version_major": 2,
       "version_minor": 0
      },
      "text/plain": [
       "Button(description='Translate', style=ButtonStyle())"
      ]
     },
     "metadata": {},
     "output_type": "display_data"
    },
    {
     "data": {
      "application/vnd.jupyter.widget-view+json": {
       "model_id": "705956b6a0084f618d7f35074bddf020",
       "version_major": 2,
       "version_minor": 0
      },
      "text/plain": [
       "Output()"
      ]
     },
     "metadata": {},
     "output_type": "display_data"
    }
   ],
   "source": [
    "import ipywidgets as widgets\n",
    "from IPython.display import display, clear_output\n",
    "\n",
    "# Text input for sentence\n",
    "text_input = widgets.Text(\n",
    "    value='My name is Tanish and i am from chhatisgarh.',\n",
    "    description='Input:',\n",
    "    layout=widgets.Layout(width='100%')\n",
    ")\n",
    "\n",
    "# Dropdown for language selection\n",
    "lang_dropdown = widgets.Dropdown(\n",
    "    options=[('Hindi', 'hin_Deva'), ('Maithili', 'mai_Deva')],\n",
    "    value='hin_Deva',\n",
    "    description='Language:'\n",
    ")\n",
    "\n",
    "# Output area\n",
    "output = widgets.Output()\n",
    "\n",
    "# Button to trigger translation\n",
    "button = widgets.Button(description=\"Translate\")\n",
    "\n",
    "def on_button_clicked(b):\n",
    "    output.clear_output()\n",
    "    with output:\n",
    "        translated = translate(text_input.value, target_lang=lang_dropdown.value)\n",
    "        print(f\"Translated Text ({lang_dropdown.label}):\\n{translated}\")\n",
    "\n",
    "button.on_click(on_button_clicked)\n",
    "\n",
    "# Display all widgets\n",
    "display(text_input, lang_dropdown, button, output)\n"
   ]
  },
  {
   "cell_type": "code",
   "execution_count": 4,
   "metadata": {
    "id": "EWw4q9lb5sGb"
   },
   "outputs": [],
   "source": [
    "from langdetect import detect\n",
    "\n",
    "def translate(input_text, src_lang=None, target_lang='hin_Deva'):\n",
    "    # Auto-detect source language if not provided\n",
    "    if src_lang is None:\n",
    "        detected_lang = detect(input_text)\n",
    "        # Map langdetect code to NLLB code\n",
    "        lang_map = {\n",
    "            'en': 'eng_Latn',\n",
    "            'hi': 'hin_Deva',\n",
    "            'es': 'spa_Latn',\n",
    "            'fr': 'fra_Latn',\n",
    "            'de': 'deu_Latn',\n",
    "            'mai': 'mai_Deva',\n",
    "            # Add more mappings as needed\n",
    "        }\n",
    "        src_lang = lang_map.get(detected_lang, 'eng_Latn')\n",
    "    translator = pipeline('translation', model=model, tokenizer=tokenizer, src_lang=src_lang, tgt_lang=target_lang, max_length=400)\n",
    "    return translator(input_text)[0]['translation_text']"
   ]
  },
  {
   "cell_type": "markdown",
   "metadata": {
    "id": "cqsxMXfx-eWb"
   },
   "source": [
    "# Translation"
   ]
  },
  {
   "cell_type": "code",
   "execution_count": 5,
   "metadata": {
    "colab": {
     "base_uri": "https://localhost:8080/"
    },
    "id": "IDjSbhCo5AqO",
    "outputId": "6f80e010-d42c-4f2e-9a29-70b0999d1149"
   },
   "outputs": [
    {
     "name": "stderr",
     "output_type": "stream",
     "text": [
      "Device set to use mps:0\n",
      "Device set to use mps:0\n"
     ]
    }
   ],
   "source": [
    "input_text = \"Gracias.\"\n",
    "\n",
    "hindi = translate(input_text, target_lang='hin_Deva')\n",
    "maithili = translate(input_text, target_lang='mai_Deva')"
   ]
  },
  {
   "cell_type": "markdown",
   "metadata": {
    "id": "fnneNN-U-fyl"
   },
   "source": [
    "# Output"
   ]
  },
  {
   "cell_type": "code",
   "execution_count": 6,
   "metadata": {
    "colab": {
     "base_uri": "https://localhost:8080/"
    },
    "id": "_thpsCo-84_K",
    "outputId": "ebc8d613-ee67-4317-986b-d9ebcaf1b350"
   },
   "outputs": [
    {
     "name": "stdout",
     "output_type": "stream",
     "text": [
      "Hindi translation: बहुत बहुत धन्यवाद\n",
      "\n",
      "Maithili translation: आभारी छी।\n",
      "\n"
     ]
    }
   ],
   "source": [
    "print(f\"Hindi translation: {hindi}\\n\")\n",
    "print(f\"Maithili translation: {maithili}\\n\")"
   ]
  }
 ],
 "metadata": {
  "accelerator": "GPU",
  "colab": {
   "gpuType": "T4",
   "provenance": []
  },
  "kernelspec": {
   "display_name": "Python 3.11 (py311env)",
   "language": "python",
   "name": "py311env"
  },
  "language_info": {
   "codemirror_mode": {
    "name": "ipython",
    "version": 3
   },
   "file_extension": ".py",
   "mimetype": "text/x-python",
   "name": "python",
   "nbconvert_exporter": "python",
   "pygments_lexer": "ipython3",
   "version": "3.11.12"
  }
 },
 "nbformat": 4,
 "nbformat_minor": 0
}
