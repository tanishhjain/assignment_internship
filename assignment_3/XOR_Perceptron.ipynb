{
 "cells": [
  {
   "cell_type": "code",
   "execution_count": 8,
   "metadata": {},
   "outputs": [],
   "source": [
    "import numpy as np\n",
    "import matplotlib.pyplot as plt\n",
    "from sklearn.preprocessing import StandardScaler"
   ]
  },
  {
   "cell_type": "code",
   "execution_count": 9,
   "metadata": {},
   "outputs": [],
   "source": [
    "# XOR input and output\n",
    "X = np.array([[0,0],[0,1],[1,0],[1,1]])\n",
    "y = np.array([[0],[1],[1],[0]])\n",
    "\n",
    "# Normalize features\n",
    "scaler = StandardScaler()\n",
    "X_scaled = scaler.fit_transform(X)"
   ]
  },
  {
   "cell_type": "code",
   "execution_count": 10,
   "metadata": {},
   "outputs": [],
   "source": [
    "# Activation functions\n",
    "def sigmoid(x):\n",
    "    return 1 / (1 + np.exp(-x))\n",
    "def sigmoid_derivative(x):\n",
    "    return x * (1 - x)"
   ]
  },
  {
   "cell_type": "code",
   "execution_count": 11,
   "metadata": {},
   "outputs": [],
   "source": [
    "# MLP class\n",
    "class MLP:\n",
    "    def __init__(self, input_size, hidden_size, output_size):\n",
    "        self.weights_input_hidden = np.random.uniform(-1, 1, (input_size, hidden_size))\n",
    "        self.bias_hidden = np.zeros((1, hidden_size))\n",
    "        self.weights_hidden_output = np.random.uniform(-1, 1, (hidden_size, output_size))\n",
    "        self.bias_output = np.zeros((1, output_size))\n",
    "\n",
    "    def forward(self, X):\n",
    "        self.hidden = sigmoid(np.dot(X, self.weights_input_hidden) + self.bias_hidden)\n",
    "        self.output = sigmoid(np.dot(self.hidden, self.weights_hidden_output) + self.bias_output)\n",
    "        return self.output\n",
    "\n",
    "    def backward(self, X, y, lr):\n",
    "        output_error = y - self.output\n",
    "        output_delta = output_error * sigmoid_derivative(self.output)\n",
    "\n",
    "        hidden_error = output_delta.dot(self.weights_hidden_output.T)\n",
    "        hidden_delta = hidden_error * sigmoid_derivative(self.hidden)\n",
    "\n",
    "        self.weights_hidden_output += self.hidden.T.dot(output_delta) * lr\n",
    "        self.bias_output += np.sum(output_delta, axis=0, keepdims=True) * lr\n",
    "        self.weights_input_hidden += X.T.dot(hidden_delta) * lr\n",
    "        self.bias_hidden += np.sum(hidden_delta, axis=0, keepdims=True) * lr\n",
    "\n",
    "    def train(self, X, y, epochs=10000, lr=0.1):\n",
    "        for epoch in range(epochs):\n",
    "            self.forward(X)\n",
    "            self.backward(X, y, lr)"
   ]
  },
  {
   "cell_type": "code",
   "execution_count": 12,
   "metadata": {},
   "outputs": [],
   "source": [
    "# Train the model\n",
    "mlp = MLP(input_size=2, hidden_size=4, output_size=1)\n",
    "mlp.train(X_scaled, y, epochs=10000, lr=0.1)"
   ]
  },
  {
   "cell_type": "code",
   "execution_count": 13,
   "metadata": {},
   "outputs": [
    {
     "data": {
      "image/png": "[encoded data removed]",
      "text/plain": [
       "<Figure size 640x480 with 1 Axes>"
      ]
     },
     "metadata": {},
     "output_type": "display_data"
    }
   ],
   "source": [
    "# Decision boundary plot\n",
    "def plot_decision_boundary(model, X, y):\n",
    "    x_min, x_max = X[:, 0].min()-1, X[:, 0].max()+1\n",
    "    y_min, y_max = X[:, 1].min()-1, X[:, 1].max()+1\n",
    "    xx, yy = np.meshgrid(np.linspace(x_min, x_max, 100), np.linspace(y_min, y_max, 100))\n",
    "    grid = np.c_[xx.ravel(), yy.ravel()]\n",
    "    grid_scaled = scaler.transform(grid)\n",
    "    preds = model.forward(grid_scaled).reshape(xx.shape)\n",
    "    plt.contourf(xx, yy, preds, levels=[0, 0.5, 1], cmap=\"coolwarm\", alpha=0.8)\n",
    "    plt.scatter(X[:, 0], X[:, 1], c=y.ravel(), cmap=\"coolwarm\", edgecolors=\"k\")\n",
    "    plt.title(\"Decision Boundary of MLP on XOR\")\n",
    "    plt.xlabel(\"Input 1\")\n",
    "    plt.ylabel(\"Input 2\")\n",
    "    plt.show()\n",
    "\n",
    "plot_decision_boundary(mlp, X, y)"
   ]
  }
 ],
 "metadata": {
  "kernelspec": {
   "display_name": "Python (venv)",
   "language": "python",
   "name": "venv"
  },
  "language_info": {
   "codemirror_mode": {
    "name": "ipython",
    "version": 3
   },
   "file_extension": ".py",
   "mimetype": "text/x-python",
   "name": "python",
   "nbconvert_exporter": "python",
   "pygments_lexer": "ipython3",
   "version": "3.13.2"
  }
 },
 "nbformat": 4,
 "nbformat_minor": 2
}
