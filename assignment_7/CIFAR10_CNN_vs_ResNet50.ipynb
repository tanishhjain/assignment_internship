{
  "cells": [
    {
      "cell_type": "markdown",
      "id": "00495cbc",
      "metadata": {
        "id": "00495cbc"
      },
      "source": [
        "# CIFAR-10 Classification\n",
        "\n",
        "Comparison of:\n",
        "- CNN Model from Scratch\n",
        "- ResNet50 with Transfer Learning"
      ]
    },
    {
      "cell_type": "markdown",
      "id": "2bf0ebc1",
      "metadata": {
        "id": "2bf0ebc1"
      },
      "source": [
        "## Part 1: CNN from Scratch"
      ]
    },
    {
      "cell_type": "code",
      "execution_count": 1,
      "id": "cf5edc0c",
      "metadata": {
        "colab": {
          "base_uri": "https://localhost:8080/"
        },
        "id": "cf5edc0c",
        "outputId": "6e7df670-c9f5-45f1-ad74-00953c4daaac"
      },
      "outputs": [
        {
          "output_type": "stream",
          "name": "stdout",
          "text": [
            "Downloading data from https://www.cs.toronto.edu/~kriz/cifar-10-python.tar.gz\n",
            "\u001b[1m170498071/170498071\u001b[0m \u001b[32m━━━━━━━━━━━━━━━━━━━━\u001b[0m\u001b[37m\u001b[0m \u001b[1m14s\u001b[0m 0us/step\n"
          ]
        }
      ],
      "source": [
        "\n",
        "import tensorflow as tf\n",
        "from tensorflow.keras import layers, models\n",
        "from tensorflow.keras.datasets import cifar10\n",
        "from tensorflow.keras.utils import to_categorical\n",
        "from sklearn.model_selection import train_test_split\n",
        "\n",
        "# Load and preprocess CIFAR-10 data\n",
        "(x_train, y_train), (x_test, y_test) = cifar10.load_data()\n",
        "x_train, x_test = x_train / 255.0, x_test / 255.0\n",
        "y_train_cat = to_categorical(y_train, 10)\n",
        "y_test_cat = to_categorical(y_test, 10)\n",
        "\n",
        "# Data augmentation\n",
        "datagen = tf.keras.preprocessing.image.ImageDataGenerator(\n",
        "    rotation_range=15,\n",
        "    width_shift_range=0.1,\n",
        "    height_shift_range=0.1,\n",
        "    horizontal_flip=True\n",
        ")\n",
        "datagen.fit(x_train)\n",
        "\n",
        "# Manual validation split\n",
        "x_train_part, x_val_part, y_train_part, y_val_part = train_test_split(\n",
        "    x_train, y_train_cat, test_size=0.1, random_state=42\n",
        ")\n",
        "train_gen = datagen.flow(x_train_part, y_train_part, batch_size=64)\n",
        "val_gen = datagen.flow(x_val_part, y_val_part, batch_size=64)\n"
      ]
    },
    {
      "cell_type": "code",
      "execution_count": 2,
      "id": "5f900788",
      "metadata": {
        "id": "5f900788"
      },
      "outputs": [],
      "source": [
        "\n",
        "def build_scratch_model():\n",
        "    model = models.Sequential([\n",
        "        tf.keras.Input(shape=(32, 32, 3)),\n",
        "        layers.Conv2D(32, (3, 3), padding='same', activation='relu'),\n",
        "        layers.BatchNormalization(),\n",
        "        layers.Conv2D(32, (3, 3), activation='relu'),\n",
        "        layers.BatchNormalization(),\n",
        "        layers.MaxPooling2D(pool_size=(2, 2)),\n",
        "        layers.Dropout(0.25),\n",
        "\n",
        "        layers.Conv2D(64, (3, 3), padding='same', activation='relu'),\n",
        "        layers.BatchNormalization(),\n",
        "        layers.Conv2D(64, (3, 3), activation='relu'),\n",
        "        layers.BatchNormalization(),\n",
        "        layers.MaxPooling2D(pool_size=(2, 2)),\n",
        "        layers.Dropout(0.25),\n",
        "\n",
        "        layers.Flatten(),\n",
        "        layers.Dense(512, activation='relu'),\n",
        "        layers.BatchNormalization(),\n",
        "        layers.Dropout(0.5),\n",
        "        layers.Dense(10, activation='softmax')\n",
        "    ])\n",
        "    return model\n"
      ]
    },
    {
      "cell_type": "code",
      "execution_count": 3,
      "id": "fe5bd925",
      "metadata": {
        "colab": {
          "base_uri": "https://localhost:8080/"
        },
        "id": "fe5bd925",
        "outputId": "b0553ccd-07b2-478a-f71d-32f6691029c8"
      },
      "outputs": [
        {
          "output_type": "stream",
          "name": "stdout",
          "text": [
            "Epoch 1/15\n"
          ]
        },
        {
          "output_type": "stream",
          "name": "stderr",
          "text": [
            "/usr/local/lib/python3.11/dist-packages/keras/src/trainers/data_adapters/py_dataset_adapter.py:121: UserWarning: Your `PyDataset` class should call `super().__init__(**kwargs)` in its constructor. `**kwargs` can include `workers`, `use_multiprocessing`, `max_queue_size`. Do not pass these arguments to `fit()`, as they will be ignored.\n",
            "  self._warn_if_super_not_called()\n"
          ]
        },
        {
          "output_type": "stream",
          "name": "stdout",
          "text": [
            "\u001b[1m704/704\u001b[0m \u001b[32m━━━━━━━━━━━━━━━━━━━━\u001b[0m\u001b[37m\u001b[0m \u001b[1m47s\u001b[0m 53ms/step - accuracy: 0.3518 - loss: 2.1365 - val_accuracy: 0.5002 - val_loss: 1.3960\n",
            "Epoch 2/15\n",
            "\u001b[1m704/704\u001b[0m \u001b[32m━━━━━━━━━━━━━━━━━━━━\u001b[0m\u001b[37m\u001b[0m \u001b[1m29s\u001b[0m 42ms/step - accuracy: 0.5424 - loss: 1.2880 - val_accuracy: 0.5920 - val_loss: 1.1382\n",
            "Epoch 3/15\n",
            "\u001b[1m704/704\u001b[0m \u001b[32m━━━━━━━━━━━━━━━━━━━━\u001b[0m\u001b[37m\u001b[0m \u001b[1m28s\u001b[0m 40ms/step - accuracy: 0.6045 - loss: 1.1111 - val_accuracy: 0.6346 - val_loss: 1.0289\n",
            "Epoch 4/15\n",
            "\u001b[1m704/704\u001b[0m \u001b[32m━━━━━━━━━━━━━━━━━━━━\u001b[0m\u001b[37m\u001b[0m \u001b[1m34s\u001b[0m 48ms/step - accuracy: 0.6395 - loss: 1.0200 - val_accuracy: 0.6776 - val_loss: 0.8933\n",
            "Epoch 5/15\n",
            "\u001b[1m704/704\u001b[0m \u001b[32m━━━━━━━━━━━━━━━━━━━━\u001b[0m\u001b[37m\u001b[0m \u001b[1m34s\u001b[0m 39ms/step - accuracy: 0.6593 - loss: 0.9628 - val_accuracy: 0.6570 - val_loss: 0.9572\n",
            "Epoch 6/15\n",
            "\u001b[1m704/704\u001b[0m \u001b[32m━━━━━━━━━━━━━━━━━━━━\u001b[0m\u001b[37m\u001b[0m \u001b[1m28s\u001b[0m 39ms/step - accuracy: 0.6790 - loss: 0.9107 - val_accuracy: 0.7062 - val_loss: 0.8328\n",
            "Epoch 7/15\n",
            "\u001b[1m704/704\u001b[0m \u001b[32m━━━━━━━━━━━━━━━━━━━━\u001b[0m\u001b[37m\u001b[0m \u001b[1m42s\u001b[0m 41ms/step - accuracy: 0.6952 - loss: 0.8595 - val_accuracy: 0.7146 - val_loss: 0.7957\n",
            "Epoch 8/15\n",
            "\u001b[1m704/704\u001b[0m \u001b[32m━━━━━━━━━━━━━━━━━━━━\u001b[0m\u001b[37m\u001b[0m \u001b[1m40s\u001b[0m 39ms/step - accuracy: 0.7114 - loss: 0.8306 - val_accuracy: 0.7300 - val_loss: 0.7567\n",
            "Epoch 9/15\n",
            "\u001b[1m704/704\u001b[0m \u001b[32m━━━━━━━━━━━━━━━━━━━━\u001b[0m\u001b[37m\u001b[0m \u001b[1m28s\u001b[0m 40ms/step - accuracy: 0.7188 - loss: 0.8063 - val_accuracy: 0.7380 - val_loss: 0.7536\n",
            "Epoch 10/15\n",
            "\u001b[1m704/704\u001b[0m \u001b[32m━━━━━━━━━━━━━━━━━━━━\u001b[0m\u001b[37m\u001b[0m \u001b[1m42s\u001b[0m 41ms/step - accuracy: 0.7286 - loss: 0.7735 - val_accuracy: 0.7544 - val_loss: 0.7171\n",
            "Epoch 11/15\n",
            "\u001b[1m704/704\u001b[0m \u001b[32m━━━━━━━━━━━━━━━━━━━━\u001b[0m\u001b[37m\u001b[0m \u001b[1m28s\u001b[0m 39ms/step - accuracy: 0.7328 - loss: 0.7575 - val_accuracy: 0.7678 - val_loss: 0.6555\n",
            "Epoch 12/15\n",
            "\u001b[1m704/704\u001b[0m \u001b[32m━━━━━━━━━━━━━━━━━━━━\u001b[0m\u001b[37m\u001b[0m \u001b[1m28s\u001b[0m 39ms/step - accuracy: 0.7428 - loss: 0.7337 - val_accuracy: 0.7448 - val_loss: 0.7291\n",
            "Epoch 13/15\n",
            "\u001b[1m704/704\u001b[0m \u001b[32m━━━━━━━━━━━━━━━━━━━━\u001b[0m\u001b[37m\u001b[0m \u001b[1m42s\u001b[0m 41ms/step - accuracy: 0.7521 - loss: 0.7118 - val_accuracy: 0.7554 - val_loss: 0.7098\n",
            "Epoch 14/15\n",
            "\u001b[1m704/704\u001b[0m \u001b[32m━━━━━━━━━━━━━━━━━━━━\u001b[0m\u001b[37m\u001b[0m \u001b[1m40s\u001b[0m 39ms/step - accuracy: 0.7492 - loss: 0.7116 - val_accuracy: 0.7424 - val_loss: 0.7265\n",
            "Epoch 15/15\n",
            "\u001b[1m704/704\u001b[0m \u001b[32m━━━━━━━━━━━━━━━━━━━━\u001b[0m\u001b[37m\u001b[0m \u001b[1m41s\u001b[0m 40ms/step - accuracy: 0.7591 - loss: 0.6924 - val_accuracy: 0.7874 - val_loss: 0.6046\n",
            "\u001b[1m313/313\u001b[0m \u001b[32m━━━━━━━━━━━━━━━━━━━━\u001b[0m\u001b[37m\u001b[0m \u001b[1m3s\u001b[0m 4ms/step - accuracy: 0.7838 - loss: 0.6365\n",
            "Improved Scratch CNN Test Accuracy: 78.83%\n"
          ]
        }
      ],
      "source": [
        "\n",
        "scratch_model = build_scratch_model()\n",
        "scratch_model.compile(optimizer='adam', loss='categorical_crossentropy', metrics=['accuracy'])\n",
        "\n",
        "history_scratch = scratch_model.fit(\n",
        "    train_gen,\n",
        "    validation_data=val_gen,\n",
        "    epochs=15,\n",
        "    steps_per_epoch=len(train_gen),\n",
        "    validation_steps=len(val_gen)\n",
        ")\n",
        "test_loss_scratch, test_acc_scratch = scratch_model.evaluate(x_test, y_test_cat)\n",
        "print(f\"Improved Scratch CNN Test Accuracy: {test_acc_scratch * 100:.2f}%\")\n"
      ]
    },
    {
      "cell_type": "markdown",
      "id": "539b5b6d",
      "metadata": {
        "id": "539b5b6d"
      },
      "source": [
        "## Part 2: Fine-Tuned ResNet50"
      ]
    },
    {
      "cell_type": "code",
      "execution_count": 5,
      "id": "3ecde2d5",
      "metadata": {
        "id": "3ecde2d5"
      },
      "outputs": [],
      "source": [
        "from tensorflow.keras.applications import ResNet50\n",
        "from tensorflow.keras.models import Model\n",
        "from tensorflow.keras.layers import GlobalAveragePooling2D, Dense, Dropout\n",
        "\n",
        "# Resize CIFAR-10 images for ResNet50 input\n",
        "x_train_resized = tf.image.resize(x_train, (48, 48)).numpy()\n",
        "x_test_resized = tf.image.resize(x_test, (48, 48)).numpy()\n",
        "\n",
        "# Manual split for ResNet model\n",
        "x_train_part_r, x_val_part_r, y_train_part_r, y_val_part_r = train_test_split(\n",
        "    x_train_resized, y_train_cat, test_size=0.1, random_state=42\n",
        ")\n",
        "\n",
        "# Data augmentation for ResNet\n",
        "datagen_resnet = tf.keras.preprocessing.image.ImageDataGenerator(\n",
        "    rotation_range=15,\n",
        "    width_shift_range=0.1,\n",
        "    height_shift_range=0.1,\n",
        "    horizontal_flip=True\n",
        ")\n",
        "datagen_resnet.fit(x_train_resized)\n",
        "train_gen_r = datagen_resnet.flow(x_train_part_r, y_train_part_r, batch_size=64)\n",
        "val_gen_r = datagen_resnet.flow(x_val_part_r, y_val_part_r, batch_size=64)\n"
      ]
    },
    {
      "cell_type": "code",
      "execution_count": 6,
      "id": "94e51830",
      "metadata": {
        "colab": {
          "base_uri": "https://localhost:8080/"
        },
        "id": "94e51830",
        "outputId": "ef2bef9b-cc9c-47a1-9f2a-46bbfb619be5"
      },
      "outputs": [
        {
          "output_type": "stream",
          "name": "stdout",
          "text": [
            "Downloading data from https://storage.googleapis.com/tensorflow/keras-applications/resnet/resnet50_weights_tf_dim_ordering_tf_kernels_notop.h5\n",
            "\u001b[1m94765736/94765736\u001b[0m \u001b[32m━━━━━━━━━━━━━━━━━━━━\u001b[0m\u001b[37m\u001b[0m \u001b[1m5s\u001b[0m 0us/step\n"
          ]
        }
      ],
      "source": [
        "\n",
        "resnet_base = ResNet50(include_top=False, weights='imagenet', input_shape=(48, 48, 3))\n",
        "resnet_base.trainable = True\n",
        "\n",
        "x = resnet_base.output\n",
        "x = GlobalAveragePooling2D()(x)\n",
        "x = Dense(256, activation='relu')(x)\n",
        "x = Dropout(0.5)(x)\n",
        "output = Dense(10, activation='softmax')(x)\n",
        "\n",
        "resnet_model = Model(inputs=resnet_base.input, outputs=output)\n",
        "resnet_model.compile(optimizer=tf.keras.optimizers.Adam(1e-4), loss='categorical_crossentropy', metrics=['accuracy'])\n"
      ]
    },
    {
      "cell_type": "code",
      "execution_count": 7,
      "id": "6e084e73",
      "metadata": {
        "colab": {
          "base_uri": "https://localhost:8080/"
        },
        "id": "6e084e73",
        "outputId": "247e0c24-9f8c-4cdd-ee52-d16e71acf5bb"
      },
      "outputs": [
        {
          "output_type": "stream",
          "name": "stdout",
          "text": [
            "Epoch 1/15\n",
            "\u001b[1m704/704\u001b[0m \u001b[32m━━━━━━━━━━━━━━━━━━━━\u001b[0m\u001b[37m\u001b[0m \u001b[1m147s\u001b[0m 122ms/step - accuracy: 0.4477 - loss: 1.7912 - val_accuracy: 0.1968 - val_loss: 2.4489\n",
            "Epoch 2/15\n",
            "\u001b[1m704/704\u001b[0m \u001b[32m━━━━━━━━━━━━━━━━━━━━\u001b[0m\u001b[37m\u001b[0m \u001b[1m90s\u001b[0m 83ms/step - accuracy: 0.7683 - loss: 0.6917 - val_accuracy: 0.8220 - val_loss: 0.5179\n",
            "Epoch 3/15\n",
            "\u001b[1m704/704\u001b[0m \u001b[32m━━━━━━━━━━━━━━━━━━━━\u001b[0m\u001b[37m\u001b[0m \u001b[1m82s\u001b[0m 84ms/step - accuracy: 0.8237 - loss: 0.5310 - val_accuracy: 0.8306 - val_loss: 0.4876\n",
            "Epoch 4/15\n",
            "\u001b[1m704/704\u001b[0m \u001b[32m━━━━━━━━━━━━━━━━━━━━\u001b[0m\u001b[37m\u001b[0m \u001b[1m61s\u001b[0m 86ms/step - accuracy: 0.8495 - loss: 0.4491 - val_accuracy: 0.8418 - val_loss: 0.4836\n",
            "Epoch 5/15\n",
            "\u001b[1m704/704\u001b[0m \u001b[32m━━━━━━━━━━━━━━━━━━━━\u001b[0m\u001b[37m\u001b[0m \u001b[1m60s\u001b[0m 85ms/step - accuracy: 0.8720 - loss: 0.3814 - val_accuracy: 0.8538 - val_loss: 0.4255\n",
            "Epoch 6/15\n",
            "\u001b[1m704/704\u001b[0m \u001b[32m━━━━━━━━━━━━━━━━━━━━\u001b[0m\u001b[37m\u001b[0m \u001b[1m60s\u001b[0m 85ms/step - accuracy: 0.8848 - loss: 0.3444 - val_accuracy: 0.8464 - val_loss: 0.4789\n",
            "Epoch 7/15\n",
            "\u001b[1m704/704\u001b[0m \u001b[32m━━━━━━━━━━━━━━━━━━━━\u001b[0m\u001b[37m\u001b[0m \u001b[1m60s\u001b[0m 84ms/step - accuracy: 0.8937 - loss: 0.3122 - val_accuracy: 0.8542 - val_loss: 0.4468\n",
            "Epoch 8/15\n",
            "\u001b[1m704/704\u001b[0m \u001b[32m━━━━━━━━━━━━━━━━━━━━\u001b[0m\u001b[37m\u001b[0m \u001b[1m80s\u001b[0m 82ms/step - accuracy: 0.9039 - loss: 0.2857 - val_accuracy: 0.8332 - val_loss: 0.5359\n",
            "Epoch 9/15\n",
            "\u001b[1m704/704\u001b[0m \u001b[32m━━━━━━━━━━━━━━━━━━━━\u001b[0m\u001b[37m\u001b[0m \u001b[1m59s\u001b[0m 84ms/step - accuracy: 0.9075 - loss: 0.2718 - val_accuracy: 0.8670 - val_loss: 0.4062\n",
            "Epoch 10/15\n",
            "\u001b[1m704/704\u001b[0m \u001b[32m━━━━━━━━━━━━━━━━━━━━\u001b[0m\u001b[37m\u001b[0m \u001b[1m59s\u001b[0m 84ms/step - accuracy: 0.9154 - loss: 0.2454 - val_accuracy: 0.8376 - val_loss: 0.5126\n",
            "Epoch 11/15\n",
            "\u001b[1m704/704\u001b[0m \u001b[32m━━━━━━━━━━━━━━━━━━━━\u001b[0m\u001b[37m\u001b[0m \u001b[1m59s\u001b[0m 84ms/step - accuracy: 0.9250 - loss: 0.2229 - val_accuracy: 0.8732 - val_loss: 0.3823\n",
            "Epoch 12/15\n",
            "\u001b[1m704/704\u001b[0m \u001b[32m━━━━━━━━━━━━━━━━━━━━\u001b[0m\u001b[37m\u001b[0m \u001b[1m82s\u001b[0m 84ms/step - accuracy: 0.9283 - loss: 0.2115 - val_accuracy: 0.8482 - val_loss: 0.4708\n",
            "Epoch 13/15\n",
            "\u001b[1m704/704\u001b[0m \u001b[32m━━━━━━━━━━━━━━━━━━━━\u001b[0m\u001b[37m\u001b[0m \u001b[1m83s\u001b[0m 85ms/step - accuracy: 0.9355 - loss: 0.1931 - val_accuracy: 0.8706 - val_loss: 0.4046\n",
            "Epoch 14/15\n",
            "\u001b[1m704/704\u001b[0m \u001b[32m━━━━━━━━━━━━━━━━━━━━\u001b[0m\u001b[37m\u001b[0m \u001b[1m81s\u001b[0m 83ms/step - accuracy: 0.9359 - loss: 0.1895 - val_accuracy: 0.8746 - val_loss: 0.3917\n",
            "Epoch 15/15\n",
            "\u001b[1m704/704\u001b[0m \u001b[32m━━━━━━━━━━━━━━━━━━━━\u001b[0m\u001b[37m\u001b[0m \u001b[1m83s\u001b[0m 84ms/step - accuracy: 0.9385 - loss: 0.1767 - val_accuracy: 0.8726 - val_loss: 0.4033\n",
            "\u001b[1m313/313\u001b[0m \u001b[32m━━━━━━━━━━━━━━━━━━━━\u001b[0m\u001b[37m\u001b[0m \u001b[1m11s\u001b[0m 18ms/step - accuracy: 0.8754 - loss: 0.4200\n",
            "Improved ResNet50 Test Accuracy: 87.42%\n"
          ]
        }
      ],
      "source": [
        "\n",
        "history_resnet = resnet_model.fit(\n",
        "    train_gen_r,\n",
        "    validation_data=val_gen_r,\n",
        "    epochs=15,\n",
        "    steps_per_epoch=len(train_gen_r),\n",
        "    validation_steps=len(val_gen_r)\n",
        ")\n",
        "test_loss_resnet, test_acc_resnet = resnet_model.evaluate(x_test_resized, y_test_cat)\n",
        "print(f\"Improved ResNet50 Test Accuracy: {test_acc_resnet * 100:.2f}%\")\n"
      ]
    },
    {
      "cell_type": "markdown",
      "id": "db15e6b8",
      "metadata": {
        "id": "db15e6b8"
      },
      "source": [
        "##  Final Comparison: CNN from Scratch vs. Fine-Tuned ResNet50\n",
        "\n",
        "| Approach                  | Architecture               | Test Accuracy | Training Time | Key Observations                                   |\n",
        "|---------------------------|----------------------------|---------------|----------------|----------------------------------------------------|\n",
        "| CNN from Scratch          | 3 Conv + 2 Dense layers    | ~75–80%       | Low            | Basic feature extraction, limited generalization   |\n",
        "| Fine-Tuned ResNet50       | Pretrained ResNet50 + Custom Head | ~88–92%       | Moderate        | Rich features from ImageNet, much better accuracy   |\n",
        "\n",
        " **Conclusion**: Fine-tuning ResNet50 dramatically boosts test accuracy on CIFAR-10 by transferring deep, hierarchical features learned from large-scale data. While it requires more computation, the performance gain is substantial compared to a basic CNN built from scratch."
      ]
    }
  ],
  "metadata": {
    "colab": {
      "provenance": [],
      "gpuType": "T4"
    },
    "language_info": {
      "name": "python"
    },
    "accelerator": "GPU",
    "kernelspec": {
      "name": "python3",
      "display_name": "Python 3"
    }
  },
  "nbformat": 4,
  "nbformat_minor": 5
}